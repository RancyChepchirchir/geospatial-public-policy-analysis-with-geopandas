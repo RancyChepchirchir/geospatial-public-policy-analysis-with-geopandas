{
 "cells": [
  {
   "cell_type": "markdown",
   "metadata": {},
   "source": [
    "# Education Desert maps\n",
    "\n",
    "10, 20, 50 mi radii around higher education institutions. *What parts of the country are left out?*"
   ]
  },
  {
   "cell_type": "code",
   "execution_count": null,
   "metadata": {},
   "outputs": [],
   "source": [
    "import pandas as pd\n",
    "import geopandas as gpd\n",
    "import geoplot as gplt\n",
    "import geoplot.crs as gcrs\n",
    "import matplotlib.pyplot as plt\n",
    "from pathlib import Path\n",
    "\n",
    "from tools import tree\n",
    "from datetime import datetime as dt\n",
    "today = dt.today().strftime(\"%d-%b-%y\")\n",
    "\n",
    "today"
   ]
  },
  {
   "cell_type": "code",
   "execution_count": null,
   "metadata": {},
   "outputs": [],
   "source": [
    "RAW_DATA = Path(\"../data/raw/\")\n",
    "INTERIM_DATA = Path(\"../data/interim/\")\n",
    "PROCESSED_DATA = Path(\"../data/processed/\")\n",
    "FINAL_DATA = Path(\"../data/final/\")\n",
    "EXTERNAL_DATA = Path(\"../data/external/\")"
   ]
  },
  {
   "cell_type": "code",
   "execution_count": null,
   "metadata": {},
   "outputs": [],
   "source": [
    "tree(PROCESSED_DATA)"
   ]
  },
  {
   "cell_type": "code",
   "execution_count": null,
   "metadata": {},
   "outputs": [],
   "source": [
    "county_data = pd.read_csv(PROCESSED_DATA / 'counties.csv')"
   ]
  },
  {
   "cell_type": "code",
   "execution_count": null,
   "metadata": {},
   "outputs": [],
   "source": [
    "county_data.head().T"
   ]
  },
  {
   "cell_type": "code",
   "execution_count": null,
   "metadata": {},
   "outputs": [],
   "source": [
    "institutions_data = pd.read_csv(PROCESSED_DATA / 'institutional_characteristics.csv')"
   ]
  },
  {
   "cell_type": "code",
   "execution_count": null,
   "metadata": {},
   "outputs": [],
   "source": [
    "institutions_data.head().T"
   ]
  },
  {
   "cell_type": "code",
   "execution_count": null,
   "metadata": {},
   "outputs": [],
   "source": [
    "county_shapes = gpd.read_file(PROCESSED_DATA / 'geodata' / 'tl_2019_us_county.shp')"
   ]
  },
  {
   "cell_type": "code",
   "execution_count": null,
   "metadata": {},
   "outputs": [],
   "source": [
    "county_shapes.head().T"
   ]
  },
  {
   "cell_type": "code",
   "execution_count": null,
   "metadata": {},
   "outputs": [],
   "source": [
    "import us"
   ]
  },
  {
   "cell_type": "code",
   "execution_count": null,
   "metadata": {},
   "outputs": [],
   "source": [
    "contiguous_fips = [state.fips for state in us.STATES_CONTIGUOUS]\n",
    "mask_contiguous_fips = county_shapes['STATEFP'].isin(contiguous_fips)\n",
    "county_shapes = county_shapes[mask_contiguous_fips]"
   ]
  },
  {
   "cell_type": "code",
   "execution_count": null,
   "metadata": {},
   "outputs": [],
   "source": [
    "contiguous_states = [state.name for state in us.STATES_CONTIGUOUS]\n",
    "mask_contiguous_states = institutions_data['fips_state_code'].isin(contiguous_states)\n",
    "institutions_data = institutions_data[mask_contiguous_states]"
   ]
  },
  {
   "cell_type": "code",
   "execution_count": null,
   "metadata": {},
   "outputs": [],
   "source": [
    "geo_institutions = gpd.GeoDataFrame(institutions_data, geometry=gpd.points_from_xy(institutions_data['longitude'], institutions_data['latitude']))"
   ]
  },
  {
   "cell_type": "code",
   "execution_count": null,
   "metadata": {},
   "outputs": [],
   "source": [
    "geo_institutions.crs"
   ]
  },
  {
   "cell_type": "code",
   "execution_count": null,
   "metadata": {},
   "outputs": [],
   "source": [
    "county_shapes.crs"
   ]
  },
  {
   "cell_type": "code",
   "execution_count": null,
   "metadata": {},
   "outputs": [],
   "source": [
    "geo_institutions.crs = county_shapes.crs"
   ]
  },
  {
   "cell_type": "code",
   "execution_count": null,
   "metadata": {},
   "outputs": [],
   "source": [
    "geo_institutions.plot();"
   ]
  },
  {
   "cell_type": "markdown",
   "metadata": {},
   "source": [
    "[EPSG: 4269](https://epsg.io/4269) uses degrees as its units of measure, we need to change that to meters so we can create _buffers_ of 10, 25, 50 miles around each institution.\n",
    "\n",
    "[EPSG: 3857](https://epsg.io/3857)"
   ]
  },
  {
   "cell_type": "code",
   "execution_count": null,
   "metadata": {},
   "outputs": [],
   "source": [
    "geo_institutions_in_meters = geo_institutions.to_crs(epsg=3857)"
   ]
  },
  {
   "cell_type": "code",
   "execution_count": null,
   "metadata": {},
   "outputs": [],
   "source": [
    "geo_institutions_in_meters.head()"
   ]
  },
  {
   "cell_type": "code",
   "execution_count": null,
   "metadata": {},
   "outputs": [],
   "source": [
    "miles = 1609 # meters"
   ]
  },
  {
   "cell_type": "code",
   "execution_count": null,
   "metadata": {},
   "outputs": [],
   "source": [
    "institutions_10mi_radius = geo_institutions_in_meters.copy()\n",
    "institutions_10mi_radius['geometry'] = institutions_10mi_radius['geometry'].buffer(10 * miles)"
   ]
  },
  {
   "cell_type": "code",
   "execution_count": null,
   "metadata": {},
   "outputs": [],
   "source": [
    "institutions_25mi_radius = geo_institutions_in_meters.copy()\n",
    "institutions_25mi_radius['geometry'] = institutions_10mi_radius['geometry'].buffer(25 * miles)"
   ]
  },
  {
   "cell_type": "code",
   "execution_count": null,
   "metadata": {},
   "outputs": [],
   "source": [
    "institutions_50mi_radius = geo_institutions_in_meters.copy()\n",
    "institutions_50mi_radius['geometry'] = institutions_50mi_radius['geometry'].buffer(50 * miles)"
   ]
  },
  {
   "cell_type": "code",
   "execution_count": null,
   "metadata": {},
   "outputs": [],
   "source": [
    "institutions_10mi_radius.to_crs(epsg=4269, inplace=True)\n",
    "institutions_25mi_radius.to_crs(epsg=4269, inplace=True)\n",
    "institutions_50mi_radius.to_crs(epsg=4269, inplace=True)"
   ]
  },
  {
   "cell_type": "code",
   "execution_count": null,
   "metadata": {},
   "outputs": [],
   "source": [
    "institutions_10mi_radius.plot();"
   ]
  },
  {
   "cell_type": "code",
   "execution_count": null,
   "metadata": {},
   "outputs": [],
   "source": [
    "institutions_25mi_radius.plot();"
   ]
  },
  {
   "cell_type": "code",
   "execution_count": null,
   "metadata": {},
   "outputs": [],
   "source": [
    "institutions_50mi_radius.plot();"
   ]
  },
  {
   "cell_type": "markdown",
   "metadata": {},
   "source": [
    "https://geopandas.org/set_operations.html"
   ]
  },
  {
   "cell_type": "code",
   "execution_count": null,
   "metadata": {},
   "outputs": [],
   "source": [
    "gpd.overlay(county_shapes, institutions_10mi_radius, how = 'difference').plot();"
   ]
  },
  {
   "cell_type": "code",
   "execution_count": null,
   "metadata": {},
   "outputs": [],
   "source": [
    "gpd.overlay(county_shapes, institutions_25mi_radius, how = 'difference').plot();"
   ]
  },
  {
   "cell_type": "code",
   "execution_count": null,
   "metadata": {},
   "outputs": [],
   "source": [
    "gpd.overlay(county_shapes, institutions_50mi_radius, how = 'difference').plot();"
   ]
  },
  {
   "cell_type": "markdown",
   "metadata": {},
   "source": [
    "but overlay actually returns a geodataframe which we can use with geoplot!"
   ]
  },
  {
   "cell_type": "code",
   "execution_count": null,
   "metadata": {},
   "outputs": [],
   "source": [
    "gpd.overlay(county_shapes, institutions_50mi_radius, how = 'difference')"
   ]
  },
  {
   "cell_type": "markdown",
   "metadata": {},
   "source": [
    "TODO\n",
    "\n",
    "attach county data, share underrepresented, hh income, median age, to these dataframes."
   ]
  },
  {
   "cell_type": "markdown",
   "metadata": {},
   "source": [
    "# Data preparation"
   ]
  },
  {
   "cell_type": "code",
   "execution_count": null,
   "metadata": {},
   "outputs": [],
   "source": [
    "county_data.head()"
   ]
  },
  {
   "cell_type": "code",
   "execution_count": null,
   "metadata": {},
   "outputs": [],
   "source": [
    "county_data['share_underrepresented'] = (county_data['black_alone'] + \n",
    "    county_data['american_indian_and_alaska_native'] + \n",
    "    county_data['native_hawaiian_and_pacific_islander'] + \n",
    "    county_data['latino_alone']) / county_data['universe']"
   ]
  },
  {
   "cell_type": "code",
   "execution_count": null,
   "metadata": {},
   "outputs": [],
   "source": [
    "county_data['geoid'] = county_data['geoid'].astype(str).str.zfill(5)\n",
    "\n",
    "county_data = county_data[['geoid', 'name', 'universe', 'share_underrepresented']]\n",
    "county_data.set_index('geoid', inplace = True)"
   ]
  },
  {
   "cell_type": "code",
   "execution_count": null,
   "metadata": {},
   "outputs": [],
   "source": [
    "median_age = pd.read_csv(EXTERNAL_DATA / 'processed' / 'acs5_2018_medianage_counties.csv')\n",
    "median_hh_income = pd.read_csv(EXTERNAL_DATA / 'processed' / 'acs5_2018_medianhouseholdincome_counties.csv')"
   ]
  },
  {
   "cell_type": "code",
   "execution_count": null,
   "metadata": {},
   "outputs": [],
   "source": [
    "median_age.head()"
   ]
  },
  {
   "cell_type": "code",
   "execution_count": null,
   "metadata": {},
   "outputs": [],
   "source": [
    "median_hh_income.head()"
   ]
  },
  {
   "cell_type": "code",
   "execution_count": null,
   "metadata": {},
   "outputs": [],
   "source": [
    "# fix geoid\n",
    "median_age['geoid'] = median_age['geoid'].astype(str).str.zfill(5)\n",
    "median_hh_income['geoid'] = median_hh_income['geoid'].astype(str).str.zfill(5)"
   ]
  },
  {
   "cell_type": "code",
   "execution_count": null,
   "metadata": {},
   "outputs": [],
   "source": [
    "median_age = median_age[['geoid', 'median', 'male', 'female']]\n",
    "median_age.columns = ['geoid', 'median_age', 'median_age_male', 'median_age_female']\n",
    "median_age.set_index('geoid', inplace = True)"
   ]
  },
  {
   "cell_type": "code",
   "execution_count": null,
   "metadata": {},
   "outputs": [],
   "source": [
    "median_hh_income = median_hh_income[['geoid', 'median']]\n",
    "median_hh_income.columns = ['geoid', 'median_hh_income']\n",
    "median_hh_income.set_index('geoid', inplace=True)"
   ]
  },
  {
   "cell_type": "code",
   "execution_count": null,
   "metadata": {},
   "outputs": [],
   "source": [
    "county_shapes = county_shapes[['GEOID', 'geometry']]\n",
    "county_shapes.set_index(\"GEOID\", inplace = True)"
   ]
  },
  {
   "cell_type": "code",
   "execution_count": null,
   "metadata": {},
   "outputs": [],
   "source": [
    "working_gdf = county_shapes.join(county_data).join(median_age).join(median_hh_income)\n",
    "\n",
    "working_gdf.head()"
   ]
  },
  {
   "cell_type": "code",
   "execution_count": null,
   "metadata": {},
   "outputs": [],
   "source": [
    "ten_miles = gpd.overlay(working_gdf, institutions_10mi_radius, how = 'difference')\n",
    "twentyfive_miles = gpd.overlay(working_gdf, institutions_25mi_radius, how = 'difference')\n",
    "fifty_miles = gpd.overlay(working_gdf, institutions_50mi_radius, how = 'difference')"
   ]
  },
  {
   "cell_type": "code",
   "execution_count": null,
   "metadata": {},
   "outputs": [],
   "source": [
    "ten_miles_inter = gpd.overlay(working_gdf, institutions_10mi_radius, how = 'intersection')\n",
    "twentyfive_miles_inter = gpd.overlay(working_gdf, institutions_25mi_radius, how = 'intersection')\n",
    "fifty_miles_inter = gpd.overlay(working_gdf, institutions_50mi_radius, how = 'intersection')"
   ]
  },
  {
   "cell_type": "code",
   "execution_count": null,
   "metadata": {},
   "outputs": [],
   "source": [
    "gplt.choropleth(ten_miles, projection=gcrs.WebMercator(), hue = 'share_underrepresented', figsize=(12,12),)"
   ]
  },
  {
   "cell_type": "code",
   "execution_count": null,
   "metadata": {},
   "outputs": [],
   "source": [
    "import matplotlib.colors as mc"
   ]
  },
  {
   "cell_type": "code",
   "execution_count": null,
   "metadata": {},
   "outputs": [],
   "source": [
    "univ_norm = mc.Normalize(ten_miles['universe'].min(), ten_miles['universe'].quantile(0.90))"
   ]
  },
  {
   "cell_type": "code",
   "execution_count": null,
   "metadata": {},
   "outputs": [],
   "source": [
    "proj = gcrs.AlbersEqualArea()\n",
    "\n",
    "ax = gplt.polyplot(\n",
    "    county_shapes,     \n",
    "    zorder=-1,\n",
    "    projection = proj,\n",
    "    linewidth=1,\n",
    "    edgecolor='white',\n",
    "    facecolor='lightgray',\n",
    "    figsize=(12, 12),\n",
    ")\n",
    "gplt.choropleth(ten_miles, hue = 'share_underrepresented', ax = ax)"
   ]
  },
  {
   "cell_type": "code",
   "execution_count": null,
   "metadata": {},
   "outputs": [],
   "source": [
    "proj = gcrs.AlbersEqualArea()\n",
    "\n",
    "ax = gplt.polyplot(\n",
    "    county_shapes,     \n",
    "    zorder=-1,\n",
    "    projection = proj,\n",
    "    linewidth=1,\n",
    "    edgecolor='white',\n",
    "    facecolor='lightgray',\n",
    "    figsize=(12, 12),\n",
    ")\n",
    "gplt.choropleth(twentyfive_miles, hue = 'share_underrepresented', ax = ax)"
   ]
  },
  {
   "cell_type": "code",
   "execution_count": null,
   "metadata": {},
   "outputs": [],
   "source": [
    "proj = gcrs.AlbersEqualArea()\n",
    "\n",
    "ax = gplt.polyplot(\n",
    "    county_shapes,     \n",
    "    zorder=-1,\n",
    "    projection = proj,\n",
    "    linewidth=1,\n",
    "    edgecolor='white',\n",
    "    facecolor='lightgray',\n",
    "    figsize=(12, 12),\n",
    ")\n",
    "gplt.choropleth(fifty_miles, hue = 'share_underrepresented', ax = ax)"
   ]
  },
  {
   "cell_type": "markdown",
   "metadata": {},
   "source": [
    "***\n",
    "EXTRA (this wasn't covered in the youtube tutorial)"
   ]
  },
  {
   "cell_type": "code",
   "execution_count": null,
   "metadata": {},
   "outputs": [],
   "source": [
    "def make_cool_map(gdf, var_of_interest, ax, projection = gcrs.AlbersEqualArea(),):\n",
    "    \"\"\"makes a cool choropleth map from our data\n",
    "    \"\"\"\n",
    "    proj = gcrs.AlbersEqualArea()\n",
    "\n",
    "    ax = gplt.polyplot(\n",
    "        county_shapes,     \n",
    "        zorder=-1,\n",
    "        projection = proj,\n",
    "        linewidth=1,\n",
    "        edgecolor='white',\n",
    "        facecolor='lightgray',\n",
    "        ax = ax,\n",
    "    )\n",
    "    \n",
    "    gplt.choropleth(\n",
    "        gdf, \n",
    "        hue = var_of_interest, \n",
    "        ax = ax, \n",
    "    )"
   ]
  },
  {
   "cell_type": "code",
   "execution_count": null,
   "metadata": {},
   "outputs": [],
   "source": [
    "proj = gcrs.WebMercator()\n",
    "f, axarr = plt.subplots(2, 2, figsize=(12, 12), subplot_kw={'projection': proj})\n",
    "\n",
    "plt.suptitle('Some cool maps', fontsize=16)\n",
    "plt.subplots_adjust(top=0.95)\n",
    "\n",
    "make_cool_map(fifty_miles, 'share_underrepresented', axarr[0][0])\n",
    "axarr[0][0].set_title('Share URM')\n",
    "\n",
    "make_cool_map(fifty_miles_inter, 'share_underrepresented', axarr[0][1])\n",
    "axarr[0][1].set_title('Share URM')\n",
    "\n",
    "make_cool_map(fifty_miles, 'median_hh_income', axarr[1][0])\n",
    "axarr[1][0].set_title('Median household income')\n",
    "\n",
    "make_cool_map(fifty_miles_inter, 'median_hh_income', axarr[1][1])\n",
    "axarr[1][1].set_title('Median household income')\n",
    "\n",
    "plt.savefig(\"test.png\", bbox_inches='tight')"
   ]
  }
 ],
 "metadata": {
  "kernelspec": {
   "display_name": "Python 3.8.2 64-bit ('geospatial-public-policy': conda)",
   "language": "python",
   "name": "python38264bitgeospatialpublicpolicyconda208fd625a8674733827caea518cfd155"
  },
  "language_info": {
   "codemirror_mode": {
    "name": "ipython",
    "version": 3
   },
   "file_extension": ".py",
   "mimetype": "text/x-python",
   "name": "python",
   "nbconvert_exporter": "python",
   "pygments_lexer": "ipython3",
   "version": "3.8.2"
  }
 },
 "nbformat": 4,
 "nbformat_minor": 4
}
